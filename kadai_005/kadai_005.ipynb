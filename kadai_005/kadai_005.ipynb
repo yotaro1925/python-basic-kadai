{
  "nbformat": 4,
  "nbformat_minor": 0,
  "metadata": {
    "colab": {
      "provenance": []
    },
    "kernelspec": {
      "name": "python3",
      "display_name": "Python 3"
    },
    "language_info": {
      "name": "python"
    }
  },
  "cells": [
    {
      "cell_type": "code",
      "execution_count": 7,
      "metadata": {
        "colab": {
          "base_uri": "https://localhost:8080/"
        },
        "id": "TxWJbuKDCdBE",
        "outputId": "8291f42a-c53c-47d4-ff6a-37e9bcbeae51"
      },
      "outputs": [
        {
          "output_type": "stream",
          "name": "stdout",
          "text": [
            "75.0cm2\n"
          ]
        }
      ],
      "source": [
        "area = (10+20)*5/2\n",
        "\n",
        "print(str(area) + \"cm2\")"
      ]
    }
  ]
}